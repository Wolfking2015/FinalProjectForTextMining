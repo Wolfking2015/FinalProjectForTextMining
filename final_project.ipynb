{
  "nbformat": 4,
  "nbformat_minor": 0,
  "metadata": {
    "kernelspec": {
      "display_name": "Python 3",
      "language": "python",
      "name": "python3"
    },
    "language_info": {
      "codemirror_mode": {
        "name": "ipython",
        "version": 3
      },
      "file_extension": ".py",
      "mimetype": "text/x-python",
      "name": "python",
      "nbconvert_exporter": "python",
      "pygments_lexer": "ipython3",
      "version": "3.6.7"
    },
    "colab": {
      "name": "final-project.ipynb",
      "provenance": [],
      "toc_visible": true
    }
  },
  "cells": [
    {
      "cell_type": "markdown",
      "metadata": {
        "id": "hEdtyZ_43BW2",
        "colab_type": "text"
      },
      "source": [
        "# Final Project Template "
      ]
    },
    {
      "cell_type": "markdown",
      "metadata": {
        "id": "RGCEJpeU3BW5",
        "colab_type": "text"
      },
      "source": [
        "## 1) Get your data\n",
        "You may use any data set(s) you like, so long as they meet these criteria:\n",
        "\n",
        "* Your data must be publically available for free.\n",
        "* Your data should be interesting to _you_. You want your final project to be something you're proud of.\n",
        "* Your data should be \"big enough\":\n",
        "    - It should have at least 1,000 rows.\n",
        "    - It should have enough of columns to be interesting.\n",
        "    - If you have questions, contact a member of the instructional team."
      ]
    },
    {
      "cell_type": "markdown",
      "metadata": {
        "id": "D-F7xGMm3txj",
        "colab_type": "text"
      },
      "source": [
        "# Title\n",
        "$\\hat y=\\beta_1 x_1+ \\epsilon$ \n",
        "\\ **bold** *itatic*"
      ]
    },
    {
      "cell_type": "markdown",
      "metadata": {
        "id": "9YqSXm5Z3BW6",
        "colab_type": "text"
      },
      "source": [
        "## 2) Provide a link to your data\n",
        "Your data is required to be free and open to anyone.\n",
        "As such, you should have a URL which anyone can use to download your data:"
      ]
    },
    {
      "cell_type": "code",
      "metadata": {
        "id": "VG8nK2YN3BW6",
        "colab_type": "code",
        "colab": {}
      },
      "source": [
        "# Enter link here."
      ],
      "execution_count": 0,
      "outputs": []
    },
    {
      "cell_type": "markdown",
      "metadata": {
        "id": "a5D6ix8Z3BW9",
        "colab_type": "text"
      },
      "source": [
        "## 3) Import your data\n",
        "In the space below, import your data.\n",
        "If your data span multiple files, read them all in.\n",
        "If applicable, merge or append them as needed."
      ]
    },
    {
      "cell_type": "code",
      "metadata": {
        "id": "kzco0CRU3BW-",
        "colab_type": "code",
        "colab": {}
      },
      "source": [
        ""
      ],
      "execution_count": 0,
      "outputs": []
    },
    {
      "cell_type": "code",
      "metadata": {
        "id": "_4wUM3mU3BXB",
        "colab_type": "code",
        "colab": {}
      },
      "source": [
        ""
      ],
      "execution_count": 0,
      "outputs": []
    },
    {
      "cell_type": "markdown",
      "metadata": {
        "id": "PH67fmZW3BXD",
        "colab_type": "text"
      },
      "source": [
        "## 4) Show me the head of your data."
      ]
    },
    {
      "cell_type": "code",
      "metadata": {
        "id": "s6EW6-EO3BXD",
        "colab_type": "code",
        "colab": {}
      },
      "source": [
        ""
      ],
      "execution_count": 0,
      "outputs": []
    },
    {
      "cell_type": "markdown",
      "metadata": {
        "id": "J-UJttDH3BXG",
        "colab_type": "text"
      },
      "source": [
        "## 5) Show me the shape of your data"
      ]
    },
    {
      "cell_type": "code",
      "metadata": {
        "id": "Ikx4InXp3BXH",
        "colab_type": "code",
        "colab": {}
      },
      "source": [
        ""
      ],
      "execution_count": 0,
      "outputs": []
    },
    {
      "cell_type": "markdown",
      "metadata": {
        "id": "f-_4Z9UE3BXJ",
        "colab_type": "text"
      },
      "source": [
        "## 6) Show me the proportion of missing observations for each column of your data"
      ]
    },
    {
      "cell_type": "code",
      "metadata": {
        "id": "kwBz6fhb3BXK",
        "colab_type": "code",
        "colab": {}
      },
      "source": [
        ""
      ],
      "execution_count": 0,
      "outputs": []
    },
    {
      "cell_type": "markdown",
      "metadata": {
        "id": "lrkWm4KT3BXM",
        "colab_type": "text"
      },
      "source": [
        "## 7) Give me a problem statement.\n",
        "Below, write a problem statement. Keep in mind that your task is to tease out relationships in your data and eventually build a predictive model. Your problem statement can be vague, but you should have a goal in mind. Your problem statement should be between one sentence and one paragraph."
      ]
    },
    {
      "cell_type": "markdown",
      "metadata": {
        "id": "GZN3YMTe3BXN",
        "colab_type": "text"
      },
      "source": [
        "## 8) What is your _y_-variable?\n",
        "For final project, you will need to perform a statistical model. This means you will have to accurately predict some y-variable for some combination of x-variables. From your problem statement in part 7, what is that y-variable?"
      ]
    }
  ]
}